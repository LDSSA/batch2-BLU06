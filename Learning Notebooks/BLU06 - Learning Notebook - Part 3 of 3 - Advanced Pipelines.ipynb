{
 "cells": [
  {
   "cell_type": "markdown",
   "metadata": {},
   "source": [
    "# BLU06 - Learning Notebook - Data wrangling workflows - Part 3 of 3"
   ]
  },
  {
   "cell_type": "code",
   "execution_count": 1,
   "metadata": {},
   "outputs": [],
   "source": [
    "import matplotlib.pyplot as plt\n",
    "plt.style.use('seaborn')\n",
    "\n",
    "import pandas as pd\n",
    "import os\n",
    "\n",
    "import warnings\n",
    "warnings.filterwarnings('ignore')\n",
    "\n",
    "from category_encoders.ordinal import OrdinalEncoder\n",
    "\n",
    "from sklearn.base import BaseEstimator, TransformerMixin\n",
    "from sklearn.cluster import KMeans\n",
    "from sklearn.preprocessing import Imputer\n",
    "from sklearn.model_selection import train_test_split\n",
    "from sklearn.pipeline import Pipeline"
   ]
  },
  {
   "cell_type": "markdown",
   "metadata": {},
   "source": [
    "# 3 Advanced pipelines in scikit-learn\n",
    "\n",
    "Remember our workflow diagram? Let's look at it again.\n",
    "\n",
    "![data_transformation_workflow](../media/data_processing_workflow.png)\n",
    "\n",
    "*Fig 1. - A standard workflow (again).*\n",
    "\n",
    "Pandas, as amazing as it is, can only take us fo far.\n",
    "\n",
    "There, beyond the known universe, lies **modeling**.\n",
    "\n",
    "Where we are at this point:\n",
    "* We are to perform transformations on data, setting up robust pipelines using nothing but Pandas\n",
    "* We are able to combine different dataframes, to enrich our datasets or generate new ones.\n",
    "\n",
    "Thus, here we are, modeling lying ahead of us. What's exactly new about modeling though?\n",
    "\n",
    "We will be using the same dataset, but this time we will create a train-test split, as we would do before modeling."
   ]
  },
  {
   "cell_type": "code",
   "execution_count": 2,
   "metadata": {},
   "outputs": [],
   "source": [
    "works = pd.read_csv('../data/works.csv')\n",
    "X_train, X_test = train_test_split(works)"
   ]
  },
  {
   "cell_type": "markdown",
   "metadata": {},
   "source": [
    "## 3.1 How is modeling different from transformation\n",
    "\n",
    "In Pandas, we simply transformed the original dataframe into a new one.\n",
    "\n",
    "But sometimes, this isn't possible. Let's start with an example: encoding categorical variables.\n",
    "\n",
    "Remember: we need to perform the exact same transformations on train and test data (and whatever data comes next)."
   ]
  },
  {
   "cell_type": "code",
   "execution_count": 3,
   "metadata": {},
   "outputs": [
    {
     "data": {
      "text/html": [
       "<div>\n",
       "<style scoped>\n",
       "    .dataframe tbody tr th:only-of-type {\n",
       "        vertical-align: middle;\n",
       "    }\n",
       "\n",
       "    .dataframe tbody tr th {\n",
       "        vertical-align: top;\n",
       "    }\n",
       "\n",
       "    .dataframe thead th {\n",
       "        text-align: right;\n",
       "    }\n",
       "</style>\n",
       "<table border=\"1\" class=\"dataframe\">\n",
       "  <thead>\n",
       "    <tr style=\"text-align: right;\">\n",
       "      <th></th>\n",
       "      <th>ComposerName</th>\n",
       "      <th>ComposerNameEncoded</th>\n",
       "    </tr>\n",
       "  </thead>\n",
       "  <tbody>\n",
       "    <tr>\n",
       "      <th>11790</th>\n",
       "      <td>Berg,  Alban</td>\n",
       "      <td>167</td>\n",
       "    </tr>\n",
       "  </tbody>\n",
       "</table>\n",
       "</div>"
      ],
      "text/plain": [
       "       ComposerName  ComposerNameEncoded\n",
       "11790  Berg,  Alban                  167"
      ]
     },
     "execution_count": 3,
     "metadata": {},
     "output_type": "execute_result"
    }
   ],
   "source": [
    "def transform_data(df):\n",
    "    df = df.copy()\n",
    "    df = (df.pipe(remove_intervals)\n",
    "            .pipe(label_encoder, 'ComposerName'))\n",
    "    return df\n",
    "\n",
    "\n",
    "def remove_intervals(df):\n",
    "    df = df.copy()\n",
    "    mask = df['Interval'].isnull()\n",
    "    df = (df.loc[mask, :]\n",
    "            .drop(columns='Interval'))\n",
    "    return df\n",
    "    \n",
    "\n",
    "def label_encoder(df, column):\n",
    "    df = df.copy()\n",
    "    df[column + 'Encoded'] = df[column].astype('category').cat.codes\n",
    "    return df\n",
    "\n",
    "\n",
    "X_train_ = transform_data(X_train)\n",
    "\n",
    "train_alban_berg = X_train_['ComposerName'] == 'Berg,  Alban'\n",
    "(X_train_.loc[train_alban_berg, ['ComposerName', 'ComposerNameEncoded']]\n",
    "         .drop_duplicates())"
   ]
  },
  {
   "cell_type": "markdown",
   "metadata": {},
   "source": [
    "All is good. We removed the intermissions (just like we did previously) and we transformed the original dataframe.\n",
    "\n",
    "For convenience, we are keeping only the `ComposerName` and `ComposerNameEncoded` columns and removing duplicates.\n",
    "\n",
    "Let's do the same to the test data."
   ]
  },
  {
   "cell_type": "code",
   "execution_count": 4,
   "metadata": {},
   "outputs": [
    {
     "data": {
      "text/html": [
       "<div>\n",
       "<style scoped>\n",
       "    .dataframe tbody tr th:only-of-type {\n",
       "        vertical-align: middle;\n",
       "    }\n",
       "\n",
       "    .dataframe tbody tr th {\n",
       "        vertical-align: top;\n",
       "    }\n",
       "\n",
       "    .dataframe thead th {\n",
       "        text-align: right;\n",
       "    }\n",
       "</style>\n",
       "<table border=\"1\" class=\"dataframe\">\n",
       "  <thead>\n",
       "    <tr style=\"text-align: right;\">\n",
       "      <th></th>\n",
       "      <th>ComposerName</th>\n",
       "      <th>ComposerNameEncoded</th>\n",
       "    </tr>\n",
       "  </thead>\n",
       "  <tbody>\n",
       "    <tr>\n",
       "      <th>44313</th>\n",
       "      <td>Berg,  Alban</td>\n",
       "      <td>109</td>\n",
       "    </tr>\n",
       "  </tbody>\n",
       "</table>\n",
       "</div>"
      ],
      "text/plain": [
       "       ComposerName  ComposerNameEncoded\n",
       "44313  Berg,  Alban                  109"
      ]
     },
     "execution_count": 4,
     "metadata": {},
     "output_type": "execute_result"
    }
   ],
   "source": [
    "X_test_ = transform_data(X_test)\n",
    "\n",
    "test_alban_berg = X_test_['ComposerName'] == 'Berg,  Alban'\n",
    "(X_test_.loc[test_alban_berg, ['ComposerName', 'ComposerNameEncoded']]\n",
    "        .drop_duplicates())"
   ]
  },
  {
   "cell_type": "markdown",
   "metadata": {},
   "source": [
    "Do you see the problem? The same `ComposerName` can (and will, in all probability) get different encodings.\n",
    "\n",
    "This is no minor problem, as it would lead us to make totally wrong predictions!!\n",
    "\n",
    "There are other cases in which problems arise. For instance, when replacing missing values with the mean:\n",
    "* You are supposed to compute the mean on the training set and use it to transform both train and test sets\n",
    "* Otherwise, you end up underestimating your true generalization error.\n",
    "\n",
    "This particular unit is not about modeling at a conceptual level, but you get the point: \n",
    "* Somehow, you need to fit the transformer on your training data first (e.g., define the encodings, compute the means)\n",
    "* Transform both train and test sets (and any data that might come in, really) using the pre-fitted transformers.\n",
    "\n",
    "This is more akin to modeling. In fact, all of this *is* modeling and part of your model. \n",
    "\n",
    "How do we solve this? **We need transformers that are more like models.**\n",
    "\n",
    "## 3.2 Meet the sklearn-like transformers\n",
    "\n",
    "There are at three fundamental verbs in scikit-learn and sklearn-like libraries:\n",
    "* `.fit()`\n",
    "* `.transform()`\n",
    "* `.predict()`.\n",
    "\n",
    "You are already familiar with `.fit()` and `.predict()`, from the Bootcamp and the Hackathon #1.  We use them to train models and make predictions.\n",
    "\n",
    "Here, we will explore a new combo: `.fit()` and `.transform()`. This is how it works.\n",
    "\n",
    "![sklearn_like_transformation_pipeline](../media/sklearn_like_transformation_pipeline.png)\n",
    "\n",
    "*Fig 2. - A data pipeline with consistent transformers, fitted on the training set.*\n",
    "\n",
    "In short, we fit a transformer on the training data and use to transform the training data.\n",
    "\n",
    "We will, however, return the transformer so we can use it to transform new, incoming data as well. Confusing? Perhaps.\n",
    "\n",
    "Time to get practical: meet the `categorical_encoders`, a set of transformers for encoding categorical variables."
   ]
  },
  {
   "cell_type": "code",
   "execution_count": 5,
   "metadata": {},
   "outputs": [
    {
     "data": {
      "text/html": [
       "<div>\n",
       "<style scoped>\n",
       "    .dataframe tbody tr th:only-of-type {\n",
       "        vertical-align: middle;\n",
       "    }\n",
       "\n",
       "    .dataframe tbody tr th {\n",
       "        vertical-align: top;\n",
       "    }\n",
       "\n",
       "    .dataframe thead th {\n",
       "        text-align: right;\n",
       "    }\n",
       "</style>\n",
       "<table border=\"1\" class=\"dataframe\">\n",
       "  <thead>\n",
       "    <tr style=\"text-align: right;\">\n",
       "      <th></th>\n",
       "      <th>GUID</th>\n",
       "      <th>ProgramID</th>\n",
       "      <th>WorkID</th>\n",
       "      <th>MovementID</th>\n",
       "      <th>WorkTitle</th>\n",
       "      <th>Movement</th>\n",
       "      <th>ConductorName</th>\n",
       "      <th>Interval</th>\n",
       "      <th>ComposerName</th>\n",
       "    </tr>\n",
       "  </thead>\n",
       "  <tbody>\n",
       "    <tr>\n",
       "      <th>45019</th>\n",
       "      <td>15b58e17-7216-4c00-a362-b6eeb534cab6</td>\n",
       "      <td>11369</td>\n",
       "      <td>5335</td>\n",
       "      <td>NaN</td>\n",
       "      <td>COTILLON</td>\n",
       "      <td>NaN</td>\n",
       "      <td>Smallens, Alexander</td>\n",
       "      <td>NaN</td>\n",
       "      <td>1</td>\n",
       "    </tr>\n",
       "    <tr>\n",
       "      <th>16890</th>\n",
       "      <td>d89bb70e-6d0f-4b37-b3b4-ec7f72baa68d</td>\n",
       "      <td>4323</td>\n",
       "      <td>0</td>\n",
       "      <td>NaN</td>\n",
       "      <td>NaN</td>\n",
       "      <td>NaN</td>\n",
       "      <td>NaN</td>\n",
       "      <td>Intermission</td>\n",
       "      <td>2</td>\n",
       "    </tr>\n",
       "    <tr>\n",
       "      <th>4942</th>\n",
       "      <td>e9176b27-33cb-479d-97bc-9aa7ec4c4b68</td>\n",
       "      <td>1866</td>\n",
       "      <td>856</td>\n",
       "      <td>NaN</td>\n",
       "      <td>ROSAMUNDE: OVERTURE, D.644</td>\n",
       "      <td>NaN</td>\n",
       "      <td>Barbirolli, John</td>\n",
       "      <td>NaN</td>\n",
       "      <td>3</td>\n",
       "    </tr>\n",
       "    <tr>\n",
       "      <th>51184</th>\n",
       "      <td>5aaeb545-f7b2-4a0a-b0ff-a7b568c101a4</td>\n",
       "      <td>9798</td>\n",
       "      <td>50064</td>\n",
       "      <td>NaN</td>\n",
       "      <td>SYMPHONY NO. 4, F MINOR, OP. 36</td>\n",
       "      <td>NaN</td>\n",
       "      <td>Maazel, Lorin</td>\n",
       "      <td>NaN</td>\n",
       "      <td>4</td>\n",
       "    </tr>\n",
       "    <tr>\n",
       "      <th>47209</th>\n",
       "      <td>5d851fd7-2168-4f53-8c15-5c69b0e2a568</td>\n",
       "      <td>1250</td>\n",
       "      <td>52942</td>\n",
       "      <td>NaN</td>\n",
       "      <td>SYMPHONY NO. 6</td>\n",
       "      <td>NaN</td>\n",
       "      <td>Bernstein, Leonard</td>\n",
       "      <td>NaN</td>\n",
       "      <td>5</td>\n",
       "    </tr>\n",
       "  </tbody>\n",
       "</table>\n",
       "</div>"
      ],
      "text/plain": [
       "                                       GUID  ProgramID  WorkID  MovementID  \\\n",
       "45019  15b58e17-7216-4c00-a362-b6eeb534cab6      11369    5335         NaN   \n",
       "16890  d89bb70e-6d0f-4b37-b3b4-ec7f72baa68d       4323       0         NaN   \n",
       "4942   e9176b27-33cb-479d-97bc-9aa7ec4c4b68       1866     856         NaN   \n",
       "51184  5aaeb545-f7b2-4a0a-b0ff-a7b568c101a4       9798   50064         NaN   \n",
       "47209  5d851fd7-2168-4f53-8c15-5c69b0e2a568       1250   52942         NaN   \n",
       "\n",
       "                             WorkTitle Movement        ConductorName  \\\n",
       "45019                         COTILLON      NaN  Smallens, Alexander   \n",
       "16890                              NaN      NaN                  NaN   \n",
       "4942        ROSAMUNDE: OVERTURE, D.644      NaN     Barbirolli, John   \n",
       "51184  SYMPHONY NO. 4, F MINOR, OP. 36      NaN        Maazel, Lorin   \n",
       "47209                   SYMPHONY NO. 6      NaN   Bernstein, Leonard   \n",
       "\n",
       "           Interval  ComposerName  \n",
       "45019           NaN             1  \n",
       "16890  Intermission             2  \n",
       "4942            NaN             3  \n",
       "51184           NaN             4  \n",
       "47209           NaN             5  "
      ]
     },
     "execution_count": 5,
     "metadata": {},
     "output_type": "execute_result"
    }
   ],
   "source": [
    "encoder = OrdinalEncoder(cols=['ComposerName'])\n",
    "X_train_ = encoder.fit_transform(X_train)\n",
    "X_train_.head()"
   ]
  },
  {
   "cell_type": "markdown",
   "metadata": {},
   "source": [
    "We can now simply use transform in our test set. Pretty convenient, huh?"
   ]
  },
  {
   "cell_type": "code",
   "execution_count": 6,
   "metadata": {},
   "outputs": [
    {
     "data": {
      "text/html": [
       "<div>\n",
       "<style scoped>\n",
       "    .dataframe tbody tr th:only-of-type {\n",
       "        vertical-align: middle;\n",
       "    }\n",
       "\n",
       "    .dataframe tbody tr th {\n",
       "        vertical-align: top;\n",
       "    }\n",
       "\n",
       "    .dataframe thead th {\n",
       "        text-align: right;\n",
       "    }\n",
       "</style>\n",
       "<table border=\"1\" class=\"dataframe\">\n",
       "  <thead>\n",
       "    <tr style=\"text-align: right;\">\n",
       "      <th></th>\n",
       "      <th>GUID</th>\n",
       "      <th>ProgramID</th>\n",
       "      <th>WorkID</th>\n",
       "      <th>MovementID</th>\n",
       "      <th>WorkTitle</th>\n",
       "      <th>Movement</th>\n",
       "      <th>ConductorName</th>\n",
       "      <th>Interval</th>\n",
       "      <th>ComposerName</th>\n",
       "    </tr>\n",
       "  </thead>\n",
       "  <tbody>\n",
       "    <tr>\n",
       "      <th>74728</th>\n",
       "      <td>752e1ae0-bf6b-4349-ab84-ea27da385b19</td>\n",
       "      <td>443</td>\n",
       "      <td>3630</td>\n",
       "      <td>NaN</td>\n",
       "      <td>BOEUF SUR LE TOIT, OP 58</td>\n",
       "      <td>NaN</td>\n",
       "      <td>Kostelanetz, Andre</td>\n",
       "      <td>NaN</td>\n",
       "      <td>216</td>\n",
       "    </tr>\n",
       "    <tr>\n",
       "      <th>59611</th>\n",
       "      <td>e3fb6f6d-93c3-456e-a1b4-5c1fb368f00e</td>\n",
       "      <td>7864</td>\n",
       "      <td>6994</td>\n",
       "      <td>NaN</td>\n",
       "      <td>VIOLIN CONCERTO</td>\n",
       "      <td>NaN</td>\n",
       "      <td>Slatkin, Leonard</td>\n",
       "      <td>NaN</td>\n",
       "      <td>127</td>\n",
       "    </tr>\n",
       "    <tr>\n",
       "      <th>54625</th>\n",
       "      <td>2cbb7c9b-addc-4ce8-9b98-05a54737179c</td>\n",
       "      <td>12802</td>\n",
       "      <td>9006</td>\n",
       "      <td>17.0</td>\n",
       "      <td>GOTTERDAMMERUNG [GÖTTERDÄMMERUNG]</td>\n",
       "      <td>PROLOGUE: Siegfried's Rhine Journey</td>\n",
       "      <td>Hoogstraten, Willem van</td>\n",
       "      <td>NaN</td>\n",
       "      <td>12</td>\n",
       "    </tr>\n",
       "    <tr>\n",
       "      <th>26689</th>\n",
       "      <td>ddc76305-d77a-4528-b812-53c4068b707d</td>\n",
       "      <td>11900</td>\n",
       "      <td>51071</td>\n",
       "      <td>NaN</td>\n",
       "      <td>CONCERTO, PIANO NO. 25, C MAJOR, K.503</td>\n",
       "      <td>NaN</td>\n",
       "      <td>Gilbert, Alan</td>\n",
       "      <td>NaN</td>\n",
       "      <td>85</td>\n",
       "    </tr>\n",
       "    <tr>\n",
       "      <th>8458</th>\n",
       "      <td>4d34498f-d5ec-4f87-9176-afda04827a50</td>\n",
       "      <td>6387</td>\n",
       "      <td>53193</td>\n",
       "      <td>NaN</td>\n",
       "      <td>SORCERER'S APPRENTICE, THE</td>\n",
       "      <td>NaN</td>\n",
       "      <td>Kostelanetz, Andre</td>\n",
       "      <td>NaN</td>\n",
       "      <td>152</td>\n",
       "    </tr>\n",
       "  </tbody>\n",
       "</table>\n",
       "</div>"
      ],
      "text/plain": [
       "                                       GUID  ProgramID  WorkID  MovementID  \\\n",
       "74728  752e1ae0-bf6b-4349-ab84-ea27da385b19        443    3630         NaN   \n",
       "59611  e3fb6f6d-93c3-456e-a1b4-5c1fb368f00e       7864    6994         NaN   \n",
       "54625  2cbb7c9b-addc-4ce8-9b98-05a54737179c      12802    9006        17.0   \n",
       "26689  ddc76305-d77a-4528-b812-53c4068b707d      11900   51071         NaN   \n",
       "8458   4d34498f-d5ec-4f87-9176-afda04827a50       6387   53193         NaN   \n",
       "\n",
       "                                    WorkTitle  \\\n",
       "74728                BOEUF SUR LE TOIT, OP 58   \n",
       "59611                         VIOLIN CONCERTO   \n",
       "54625       GOTTERDAMMERUNG [GÖTTERDÄMMERUNG]   \n",
       "26689  CONCERTO, PIANO NO. 25, C MAJOR, K.503   \n",
       "8458               SORCERER'S APPRENTICE, THE   \n",
       "\n",
       "                                  Movement            ConductorName Interval  \\\n",
       "74728                                  NaN       Kostelanetz, Andre      NaN   \n",
       "59611                                  NaN         Slatkin, Leonard      NaN   \n",
       "54625  PROLOGUE: Siegfried's Rhine Journey  Hoogstraten, Willem van      NaN   \n",
       "26689                                  NaN            Gilbert, Alan      NaN   \n",
       "8458                                   NaN       Kostelanetz, Andre      NaN   \n",
       "\n",
       "       ComposerName  \n",
       "74728           216  \n",
       "59611           127  \n",
       "54625            12  \n",
       "26689            85  \n",
       "8458            152  "
      ]
     },
     "execution_count": 6,
     "metadata": {},
     "output_type": "execute_result"
    }
   ],
   "source": [
    "X_test_ = encoder.fit_transform(X_test)\n",
    "X_test_.head()"
   ]
  },
  {
   "cell_type": "markdown",
   "metadata": {},
   "source": [
    "Let's re-do our transformer functions, so that they can either fit a transformer or accept a pre-fitted one.\n",
    "\n",
    "We have to change our `label_encoder()` first to incorporate this logic. Then we need to adapt `transform_data()`."
   ]
  },
  {
   "cell_type": "code",
   "execution_count": 7,
   "metadata": {},
   "outputs": [
    {
     "name": "stdout",
     "output_type": "stream",
     "text": [
      "Encodings: [('Benjamin,  Arthur', 1), ('Schubert,  Franz', 2), ('Tchaikovsky,  Pyotr  Ilyich', 3), ('Schuman,  William', 4)]\n"
     ]
    }
   ],
   "source": [
    "def transform_data(df, encoder=None):\n",
    "    df = df.copy()\n",
    "    df = (df.pipe(remove_intervals)\n",
    "            .pipe(label_encoder, 'ComposerName', encoder))\n",
    "    \n",
    "    return df\n",
    "\n",
    "\n",
    "def label_encoder(df, columns, encoder=None):\n",
    "    if encoder:\n",
    "        preview_encodings(encoder)\n",
    "        return encoder.transform(df)\n",
    "    else:\n",
    "        encoder = OrdinalEncoder(cols=[columns])\n",
    "        df = df.copy()\n",
    "        df = encoder.fit_transform(df)\n",
    "        preview_encodings(encoder)\n",
    "        return df, encoder\n",
    "\n",
    "    \n",
    "def preview_encodings(encoder):\n",
    "    encodings = encoder.category_mapping[0]['mapping'][:4]\n",
    "    print('Encodings: {}'.format(encodings))\n",
    "    return None\n",
    "\n",
    "X_train_, encoder = transform_data(X_train)"
   ]
  },
  {
   "cell_type": "markdown",
   "metadata": {},
   "source": [
    "In the code above, we changed our functions so that they can receive an encoder. Otherwise, they fit a new one and return it to be re-used.\n",
    "\n",
    "From a consistency standpoint, things should be looking good. Nonetheless, you are previewing the encoder as a sanity check."
   ]
  },
  {
   "cell_type": "code",
   "execution_count": 8,
   "metadata": {},
   "outputs": [
    {
     "name": "stdout",
     "output_type": "stream",
     "text": [
      "Encodings: [('Benjamin,  Arthur', 1), ('Schubert,  Franz', 2), ('Tchaikovsky,  Pyotr  Ilyich', 3), ('Schuman,  William', 4)]\n"
     ]
    }
   ],
   "source": [
    "X_test_ = transform_data(X_test, encoder=encoder)"
   ]
  },
  {
   "cell_type": "markdown",
   "metadata": {},
   "source": [
    "What kind of transformations do you need to perform this way? Some very common ones are:\n",
    "* Encoding (as we've seen)\n",
    "* Scaling\n",
    "* Vectorization (you will learn about this in the next specialization!)\n",
    "* Missing data imputation.\n",
    "\n",
    "Now, this clearly changes things (right?):\n",
    "* We lose the ability to do method chaining, as we have to return encodings as intermediate outputs\n",
    "* We need to segregate pipelines for training (fit and transform) and test (transform), which adds complexity and it's error prone.\n",
    "\n",
    "Because we will perform the exact same transformations on all datasets, storing all the exact steps is key for reproducibility and consistency.\n",
    "\n",
    "Turns out, scikit-learn provides us with a special take on pipelines, to wrap all of this in a single META-TRANSFORMER.\n",
    "\n",
    "![megazord](../media/megazord.png)\n",
    "\n",
    "*Fig 3. - A meta-transformer in practice.*\n",
    "\n",
    "Meet the Megazord."
   ]
  },
  {
   "cell_type": "markdown",
   "metadata": {},
   "source": [
    "## 3.3 Pipelines\n",
    "\n",
    "The sklearn's `Pipelines` provide a higher level of abstraction than the individual building blocks.\n",
    "\n",
    "Let's tie together all these sequential transformers and run `Megazord.fit()` and `Megazod.transform()` on the whole thing.\n",
    "\n",
    "That would make managing our code much easier, right? Let's do it:\n",
    "* We want to replace the missing values with the mode\n",
    "* We want to one-hot-encode all categorical variables.\n",
    "\n",
    "First things first, some Pandas magic: let's drop the ID columns and exclude the intervals."
   ]
  },
  {
   "cell_type": "code",
   "execution_count": 9,
   "metadata": {},
   "outputs": [
    {
     "data": {
      "text/html": [
       "<div>\n",
       "<style scoped>\n",
       "    .dataframe tbody tr th:only-of-type {\n",
       "        vertical-align: middle;\n",
       "    }\n",
       "\n",
       "    .dataframe tbody tr th {\n",
       "        vertical-align: top;\n",
       "    }\n",
       "\n",
       "    .dataframe thead th {\n",
       "        text-align: right;\n",
       "    }\n",
       "</style>\n",
       "<table border=\"1\" class=\"dataframe\">\n",
       "  <thead>\n",
       "    <tr style=\"text-align: right;\">\n",
       "      <th></th>\n",
       "      <th>ComposerName</th>\n",
       "      <th>WorkTitle</th>\n",
       "      <th>Movement</th>\n",
       "      <th>ConductorName</th>\n",
       "    </tr>\n",
       "  </thead>\n",
       "  <tbody>\n",
       "    <tr>\n",
       "      <th>45019</th>\n",
       "      <td>Benjamin,  Arthur</td>\n",
       "      <td>COTILLON</td>\n",
       "      <td>NaN</td>\n",
       "      <td>Smallens, Alexander</td>\n",
       "    </tr>\n",
       "    <tr>\n",
       "      <th>4942</th>\n",
       "      <td>Schubert,  Franz</td>\n",
       "      <td>ROSAMUNDE: OVERTURE, D.644</td>\n",
       "      <td>NaN</td>\n",
       "      <td>Barbirolli, John</td>\n",
       "    </tr>\n",
       "    <tr>\n",
       "      <th>51184</th>\n",
       "      <td>Tchaikovsky,  Pyotr  Ilyich</td>\n",
       "      <td>SYMPHONY NO. 4, F MINOR, OP. 36</td>\n",
       "      <td>NaN</td>\n",
       "      <td>Maazel, Lorin</td>\n",
       "    </tr>\n",
       "    <tr>\n",
       "      <th>47209</th>\n",
       "      <td>Schuman,  William</td>\n",
       "      <td>SYMPHONY NO. 6</td>\n",
       "      <td>NaN</td>\n",
       "      <td>Bernstein, Leonard</td>\n",
       "    </tr>\n",
       "    <tr>\n",
       "      <th>2993</th>\n",
       "      <td>Strauss,  Richard</td>\n",
       "      <td>MILITARMARSCHE, OP. 57</td>\n",
       "      <td>NaN</td>\n",
       "      <td>Hoogstraten, Willem van</td>\n",
       "    </tr>\n",
       "  </tbody>\n",
       "</table>\n",
       "</div>"
      ],
      "text/plain": [
       "                      ComposerName                        WorkTitle Movement  \\\n",
       "45019            Benjamin,  Arthur                         COTILLON      NaN   \n",
       "4942              Schubert,  Franz       ROSAMUNDE: OVERTURE, D.644      NaN   \n",
       "51184  Tchaikovsky,  Pyotr  Ilyich  SYMPHONY NO. 4, F MINOR, OP. 36      NaN   \n",
       "47209            Schuman,  William                   SYMPHONY NO. 6      NaN   \n",
       "2993             Strauss,  Richard           MILITARMARSCHE, OP. 57      NaN   \n",
       "\n",
       "                 ConductorName  \n",
       "45019      Smallens, Alexander  \n",
       "4942          Barbirolli, John  \n",
       "51184            Maazel, Lorin  \n",
       "47209       Bernstein, Leonard  \n",
       "2993   Hoogstraten, Willem van  "
      ]
     },
     "execution_count": 9,
     "metadata": {},
     "output_type": "execute_result"
    }
   ],
   "source": [
    "def prepare_data(df):\n",
    "    df = df.copy()\n",
    "    df = (df.pipe(drop_id_fields)\n",
    "            .pipe(remove_intervals)\n",
    "            .drop_duplicates())\n",
    "    return df\n",
    "\n",
    "def drop_id_fields(df):\n",
    "    columns = ['GUID', 'ProgramID', 'WorkID', 'MovementID']\n",
    "    df = df.copy()\n",
    "    df = df.drop(columns=columns)\n",
    "    return df\n",
    "\n",
    "X_train_ = prepare_data(X_train)\n",
    "X_train_.head()"
   ]
  },
  {
   "cell_type": "code",
   "execution_count": 10,
   "metadata": {},
   "outputs": [
    {
     "data": {
      "text/html": [
       "<div>\n",
       "<style scoped>\n",
       "    .dataframe tbody tr th:only-of-type {\n",
       "        vertical-align: middle;\n",
       "    }\n",
       "\n",
       "    .dataframe tbody tr th {\n",
       "        vertical-align: top;\n",
       "    }\n",
       "\n",
       "    .dataframe thead th {\n",
       "        text-align: right;\n",
       "    }\n",
       "</style>\n",
       "<table border=\"1\" class=\"dataframe\">\n",
       "  <thead>\n",
       "    <tr style=\"text-align: right;\">\n",
       "      <th></th>\n",
       "      <th>ComposerName</th>\n",
       "      <th>WorkTitle</th>\n",
       "      <th>Movement</th>\n",
       "      <th>ConductorName</th>\n",
       "    </tr>\n",
       "  </thead>\n",
       "  <tbody>\n",
       "    <tr>\n",
       "      <th>74728</th>\n",
       "      <td>Milhaud,  Darius</td>\n",
       "      <td>BOEUF SUR LE TOIT, OP 58</td>\n",
       "      <td>NaN</td>\n",
       "      <td>Kostelanetz, Andre</td>\n",
       "    </tr>\n",
       "    <tr>\n",
       "      <th>59611</th>\n",
       "      <td>Adams,  John</td>\n",
       "      <td>VIOLIN CONCERTO</td>\n",
       "      <td>NaN</td>\n",
       "      <td>Slatkin, Leonard</td>\n",
       "    </tr>\n",
       "    <tr>\n",
       "      <th>54625</th>\n",
       "      <td>Wagner,  Richard</td>\n",
       "      <td>GOTTERDAMMERUNG [GÖTTERDÄMMERUNG]</td>\n",
       "      <td>PROLOGUE: Siegfried's Rhine Journey</td>\n",
       "      <td>Hoogstraten, Willem van</td>\n",
       "    </tr>\n",
       "    <tr>\n",
       "      <th>26689</th>\n",
       "      <td>Mozart,  Wolfgang  Amadeus</td>\n",
       "      <td>CONCERTO, PIANO NO. 25, C MAJOR, K.503</td>\n",
       "      <td>NaN</td>\n",
       "      <td>Gilbert, Alan</td>\n",
       "    </tr>\n",
       "    <tr>\n",
       "      <th>8458</th>\n",
       "      <td>Dukas,  Paul</td>\n",
       "      <td>SORCERER'S APPRENTICE, THE</td>\n",
       "      <td>NaN</td>\n",
       "      <td>Kostelanetz, Andre</td>\n",
       "    </tr>\n",
       "  </tbody>\n",
       "</table>\n",
       "</div>"
      ],
      "text/plain": [
       "                     ComposerName                               WorkTitle  \\\n",
       "74728            Milhaud,  Darius                BOEUF SUR LE TOIT, OP 58   \n",
       "59611                Adams,  John                         VIOLIN CONCERTO   \n",
       "54625            Wagner,  Richard       GOTTERDAMMERUNG [GÖTTERDÄMMERUNG]   \n",
       "26689  Mozart,  Wolfgang  Amadeus  CONCERTO, PIANO NO. 25, C MAJOR, K.503   \n",
       "8458                 Dukas,  Paul              SORCERER'S APPRENTICE, THE   \n",
       "\n",
       "                                  Movement            ConductorName  \n",
       "74728                                  NaN       Kostelanetz, Andre  \n",
       "59611                                  NaN         Slatkin, Leonard  \n",
       "54625  PROLOGUE: Siegfried's Rhine Journey  Hoogstraten, Willem van  \n",
       "26689                                  NaN            Gilbert, Alan  \n",
       "8458                                   NaN       Kostelanetz, Andre  "
      ]
     },
     "execution_count": 10,
     "metadata": {},
     "output_type": "execute_result"
    }
   ],
   "source": [
    "X_test_ = prepare_data(X_test)\n",
    "X_test_.head()"
   ]
  },
  {
   "cell_type": "markdown",
   "metadata": {},
   "source": [
    "Here's how we are going to do:\n",
    "1. Create an `Imputer` that replace missing values with the mode of the column\n",
    "2. Use said `Imputer` to impute the missing values\n",
    "3. Ordinal encoding all categorical features.\n",
    "\n",
    "All in one, single, amazing, Megazord.\n",
    "\n",
    "## 3.4 Custom transformers\n",
    "\n",
    "We can build own custom transformers, for as long as they follow the usual blueprint:\n",
    "* Implement `Transformer.fit()`\n",
    "* And `Transformer.transform()`.\n",
    "\n",
    "All scikit-learn estimators have `get_params()` and `set_params` functions. \n",
    "\n",
    "The easiest way to implement these functions in a sensible way is to inherit from `sklearn.base.BaseEstimator`, as we're doing.\n",
    "\n",
    "And `Pipeline` compatibility requires a `fit_transform()` method that we are inheriting from `sklearn.base.TransformerMixin`."
   ]
  },
  {
   "cell_type": "code",
   "execution_count": 11,
   "metadata": {},
   "outputs": [],
   "source": [
    "class FeatureMultiplier(BaseEstimator, TransformerMixin):\n",
    "    def __init__(self, some_parameter):\n",
    "        self.some_parameter = some_parameter\n",
    "\n",
    "    def fit(self, X, y=None):\n",
    "        # Fit the transformer and store it.\n",
    "        return self\n",
    "        \n",
    "    def transform(self, X):\n",
    "        # Transform X.\n",
    "        return X"
   ]
  },
  {
   "cell_type": "markdown",
   "metadata": {},
   "source": [
    "Also, we may want our transformer to accept some parameters.\n",
    "\n",
    "That's we are doing when we include `some_parameter` in the `__init__`.\n",
    "\n",
    "Back to our transformers. Our blueprint:\n",
    "* We want out estimator to be able to take a `strategy` parameter, although we will support only the mode\n",
    "* Fitting requires taking the mode of each column and storing it\n",
    "* Transform implies replacing missing values with the given column modes.\n",
    "\n",
    "How are we going to compute the modes? Pandas, as always, provides a convenient `.mode()` method."
   ]
  },
  {
   "cell_type": "code",
   "execution_count": 12,
   "metadata": {},
   "outputs": [
    {
     "data": {
      "text/html": [
       "<div>\n",
       "<style scoped>\n",
       "    .dataframe tbody tr th:only-of-type {\n",
       "        vertical-align: middle;\n",
       "    }\n",
       "\n",
       "    .dataframe tbody tr th {\n",
       "        vertical-align: top;\n",
       "    }\n",
       "\n",
       "    .dataframe thead th {\n",
       "        text-align: right;\n",
       "    }\n",
       "</style>\n",
       "<table border=\"1\" class=\"dataframe\">\n",
       "  <thead>\n",
       "    <tr style=\"text-align: right;\">\n",
       "      <th></th>\n",
       "      <th>ComposerName</th>\n",
       "      <th>WorkTitle</th>\n",
       "      <th>Movement</th>\n",
       "      <th>ConductorName</th>\n",
       "    </tr>\n",
       "  </thead>\n",
       "  <tbody>\n",
       "    <tr>\n",
       "      <th>0</th>\n",
       "      <td>Beethoven,  Ludwig  van</td>\n",
       "      <td>MESSIAH</td>\n",
       "      <td>Overture</td>\n",
       "      <td>Damrosch, Walter</td>\n",
       "    </tr>\n",
       "  </tbody>\n",
       "</table>\n",
       "</div>"
      ],
      "text/plain": [
       "              ComposerName WorkTitle  Movement     ConductorName\n",
       "0  Beethoven,  Ludwig  van   MESSIAH  Overture  Damrosch, Walter"
      ]
     },
     "execution_count": 12,
     "metadata": {},
     "output_type": "execute_result"
    }
   ],
   "source": [
    "X_train_.mode()"
   ]
  },
  {
   "cell_type": "markdown",
   "metadata": {},
   "source": [
    "To be able to use indexing we will use `df.squeeze()`, a convenient method to transform our dataframe into a `pd.Series`."
   ]
  },
  {
   "cell_type": "code",
   "execution_count": 13,
   "metadata": {},
   "outputs": [
    {
     "data": {
      "text/plain": [
       "GUID             f549e93f-b35f-4824-b0d5-d543953535f8\n",
       "ProgramID                                        9542\n",
       "WorkID                                              0\n",
       "MovementID                                          1\n",
       "ComposerName                         Wagner,  Richard\n",
       "WorkTitle                  MEISTERSINGER, DIE, WWV 96\n",
       "Movement                                     Overture\n",
       "ConductorName                        Damrosch, Walter\n",
       "Interval                                 Intermission\n",
       "Name: 0, dtype: object"
      ]
     },
     "execution_count": 13,
     "metadata": {},
     "output_type": "execute_result"
    }
   ],
   "source": [
    "X_train.mode().squeeze()"
   ]
  },
  {
   "cell_type": "markdown",
   "metadata": {},
   "source": [
    "We have everything we need. Let's do this!"
   ]
  },
  {
   "cell_type": "code",
   "execution_count": 14,
   "metadata": {},
   "outputs": [
    {
     "data": {
      "text/html": [
       "<div>\n",
       "<style scoped>\n",
       "    .dataframe tbody tr th:only-of-type {\n",
       "        vertical-align: middle;\n",
       "    }\n",
       "\n",
       "    .dataframe tbody tr th {\n",
       "        vertical-align: top;\n",
       "    }\n",
       "\n",
       "    .dataframe thead th {\n",
       "        text-align: right;\n",
       "    }\n",
       "</style>\n",
       "<table border=\"1\" class=\"dataframe\">\n",
       "  <thead>\n",
       "    <tr style=\"text-align: right;\">\n",
       "      <th></th>\n",
       "      <th>ComposerName</th>\n",
       "      <th>WorkTitle</th>\n",
       "      <th>Movement</th>\n",
       "      <th>ConductorName</th>\n",
       "    </tr>\n",
       "  </thead>\n",
       "  <tbody>\n",
       "    <tr>\n",
       "      <th>45019</th>\n",
       "      <td>Benjamin,  Arthur</td>\n",
       "      <td>COTILLON</td>\n",
       "      <td>Overture</td>\n",
       "      <td>Smallens, Alexander</td>\n",
       "    </tr>\n",
       "    <tr>\n",
       "      <th>4942</th>\n",
       "      <td>Schubert,  Franz</td>\n",
       "      <td>ROSAMUNDE: OVERTURE, D.644</td>\n",
       "      <td>Overture</td>\n",
       "      <td>Barbirolli, John</td>\n",
       "    </tr>\n",
       "    <tr>\n",
       "      <th>51184</th>\n",
       "      <td>Tchaikovsky,  Pyotr  Ilyich</td>\n",
       "      <td>SYMPHONY NO. 4, F MINOR, OP. 36</td>\n",
       "      <td>Overture</td>\n",
       "      <td>Maazel, Lorin</td>\n",
       "    </tr>\n",
       "    <tr>\n",
       "      <th>47209</th>\n",
       "      <td>Schuman,  William</td>\n",
       "      <td>SYMPHONY NO. 6</td>\n",
       "      <td>Overture</td>\n",
       "      <td>Bernstein, Leonard</td>\n",
       "    </tr>\n",
       "    <tr>\n",
       "      <th>2993</th>\n",
       "      <td>Strauss,  Richard</td>\n",
       "      <td>MILITARMARSCHE, OP. 57</td>\n",
       "      <td>Overture</td>\n",
       "      <td>Hoogstraten, Willem van</td>\n",
       "    </tr>\n",
       "  </tbody>\n",
       "</table>\n",
       "</div>"
      ],
      "text/plain": [
       "                      ComposerName                        WorkTitle  Movement  \\\n",
       "45019            Benjamin,  Arthur                         COTILLON  Overture   \n",
       "4942              Schubert,  Franz       ROSAMUNDE: OVERTURE, D.644  Overture   \n",
       "51184  Tchaikovsky,  Pyotr  Ilyich  SYMPHONY NO. 4, F MINOR, OP. 36  Overture   \n",
       "47209            Schuman,  William                   SYMPHONY NO. 6  Overture   \n",
       "2993             Strauss,  Richard           MILITARMARSCHE, OP. 57  Overture   \n",
       "\n",
       "                 ConductorName  \n",
       "45019      Smallens, Alexander  \n",
       "4942          Barbirolli, John  \n",
       "51184            Maazel, Lorin  \n",
       "47209       Bernstein, Leonard  \n",
       "2993   Hoogstraten, Willem van  "
      ]
     },
     "execution_count": 14,
     "metadata": {},
     "output_type": "execute_result"
    }
   ],
   "source": [
    "class CategoryImputer(BaseEstimator, TransformerMixin):\n",
    "    def __init__(self, strategy=None):\n",
    "        if strategy:\n",
    "            self.strategy = strategy\n",
    "        else:\n",
    "            self.strategy = 'most_frequent'\n",
    "\n",
    "    def fit(self, X, y=None):\n",
    "        if self.strategy == 'most_frequent':\n",
    "            self.fills = X.mode(axis=0).squeeze()\n",
    "            return self\n",
    "        else:\n",
    "            return 'Strategy not supported.'\n",
    "\n",
    "    def transform(self, X):\n",
    "        return pd.DataFrame(X).fillna(self.fills)\n",
    "\n",
    "\n",
    "imputer = CategoryImputer()\n",
    "X_train_ = imputer.fit_transform(X_train_)\n",
    "X_train_.head()"
   ]
  },
  {
   "cell_type": "code",
   "execution_count": 15,
   "metadata": {},
   "outputs": [
    {
     "data": {
      "text/plain": [
       "ComposerName     0\n",
       "WorkTitle        0\n",
       "Movement         0\n",
       "ConductorName    0\n",
       "dtype: int64"
      ]
     },
     "execution_count": 15,
     "metadata": {},
     "output_type": "execute_result"
    }
   ],
   "source": [
    "X_train_.isnull().sum()"
   ]
  },
  {
   "cell_type": "markdown",
   "metadata": {},
   "source": [
    "There we go! What about the test set?"
   ]
  },
  {
   "cell_type": "code",
   "execution_count": 16,
   "metadata": {},
   "outputs": [
    {
     "data": {
      "text/plain": [
       "ComposerName     0\n",
       "WorkTitle        0\n",
       "Movement         0\n",
       "ConductorName    0\n",
       "dtype: int64"
      ]
     },
     "execution_count": 16,
     "metadata": {},
     "output_type": "execute_result"
    }
   ],
   "source": [
    "X_test_ = imputer.transform(X_test_)\n",
    "X_test_.isnull().sum()"
   ]
  },
  {
   "cell_type": "markdown",
   "metadata": {},
   "source": [
    "Victory awaits!"
   ]
  },
  {
   "cell_type": "markdown",
   "metadata": {},
   "source": [
    "## 3.5 Everything together\n",
    "\n",
    "Now, we want to fill in missing values and use one-hot-encoding (remember?), all at the same time.\n",
    "\n",
    "We are reaching our destination!"
   ]
  },
  {
   "cell_type": "code",
   "execution_count": 17,
   "metadata": {},
   "outputs": [],
   "source": [
    "megazord = Pipeline([('fill_na', CategoryImputer(strategy='most_frequent')),\n",
    "                     ('encode', OrdinalEncoder())])\n",
    "\n",
    "X_train_ = megazord.fit_transform(X_train)\n",
    "X_test_ = megazord.transform(X_test)"
   ]
  },
  {
   "cell_type": "markdown",
   "metadata": {},
   "source": [
    "This is it! How easier can we get? This way we abstract all the logic of passing transformers around.\n",
    "\n",
    "Now, can we throw a model in there? Perhaps we can.\n",
    "\n",
    "(But we shouldn't, in a way.)"
   ]
  },
  {
   "cell_type": "code",
   "execution_count": 18,
   "metadata": {},
   "outputs": [
    {
     "data": {
      "text/plain": [
       "array([4, 7, 7, ..., 2, 2, 5], dtype=int32)"
      ]
     },
     "execution_count": 18,
     "metadata": {},
     "output_type": "execute_result"
    }
   ],
   "source": [
    "megazord = Pipeline([('fill_na', CategoryImputer(strategy='most_frequent')),\n",
    "                     ('encode', OrdinalEncoder()),\n",
    "                     ('k_means', KMeans())])\n",
    "\n",
    "megazord.fit(X_train_)\n",
    "megazord.predict(X_test_)"
   ]
  },
  {
   "cell_type": "markdown",
   "metadata": {},
   "source": [
    "Please note that we are exemplifying data wrangling workflows.\n",
    "\n",
    "For the sake of simplicity, we are encoding categorical variables as if they were ordinal, instead of using one-hot-encoding, as recommended.\n",
    "\n",
    "Take this for what it is: an example on how to build end-to-end pipelines for modelin in scikit-learn."
   ]
  }
 ],
 "metadata": {
  "kernelspec": {
   "display_name": "Python 3",
   "language": "python",
   "name": "python3"
  },
  "language_info": {
   "codemirror_mode": {
    "name": "ipython",
    "version": 3
   },
   "file_extension": ".py",
   "mimetype": "text/x-python",
   "name": "python",
   "nbconvert_exporter": "python",
   "pygments_lexer": "ipython3",
   "version": "3.6.3"
  }
 },
 "nbformat": 4,
 "nbformat_minor": 2
}
